{
  "cells": [
    {
      "attachments": {},
      "cell_type": "markdown",
      "metadata": {
        "id": "vgpwxzdE98wQ"
      },
      "source": [
        "# **This is `python-cluedo`** 🕵️\n",
        "\n",
        "This is a Python notebook from the [`python-cluedo` repo on GitHub](https://github.com/keeganmjgreen/python-cluedo) which imports the modules for the Cluedo game simulator and Cluedo game assistant from the repo."
      ]
    },
    {
      "cell_type": "code",
      "execution_count": null,
      "metadata": {
        "id": "H97Q8KaMRSyG"
      },
      "outputs": [],
      "source": [
        "#@title First-time setup { display-mode: \"form\" }\n",
        "#@markdown Press the \"▶️\" button on the left to run this code cell and perform first-time setup.\n",
        "\n",
        "#@markdown This code cell clones the repo into the current directory of the Google Colab virtual machine after removing any previous copies. The repo is added to the `PATH` environment variable so the relevant functions and classes can be imported into this notebook after `pip`-installing `python-sat`, a necessary library that is not pre-installed in the Colab Python environment.\n",
        "\n",
        "import shutil, sys\n",
        "\n",
        "try:\n",
        "    shutil.rmtree(\"/content/python-cluedo/\")\n",
        "except:\n",
        "    sys.path.insert(0, \"/content/python-cluedo/\")\n",
        "!git clone https://github.com/keeganmjgreen/python-cluedo.git\n",
        "%pip install python-sat[pblib,aiger]\n",
        "\n",
        "from src.game_simulator import main as cluedo_game_simulator\n",
        "from src.common.smart_bot_agent import SmartBotObserver, SmartBotPlayer\n",
        "from src.common.user_player import UserPlayer\n",
        "from src.tabletop_game_assistant import main as cluedo_game_assistant\n",
        "\n",
        "number_of_players = 4"
      ]
    },
    {
      "attachments": {},
      "cell_type": "markdown",
      "metadata": {
        "id": "5arkUUHe-nx-"
      },
      "source": [
        "----\n",
        "\n",
        "## Try the Cluedo game simulator"
      ]
    },
    {
      "cell_type": "code",
      "execution_count": null,
      "metadata": {
        "cellView": "form",
        "id": "DOi-MVd4qe3P"
      },
      "outputs": [],
      "source": [
        "#@markdown Run the following code cell to run the Cluedo game simulator, or change the number of players here beforehand: { display-mode: \"form\" }\n",
        "number_of_players = 4 #@param {type:\"slider\", min:2, max:7, step:1}"
      ]
    },
    {
      "cell_type": "code",
      "execution_count": null,
      "metadata": {
        "colab": {
          "base_uri": "https://localhost:8080/"
        },
        "id": "k0TBzvj_-sr2",
        "outputId": "9b123cb9-2db2-4699-950b-ed116ceefd10"
      },
      "outputs": [
        {
          "name": "stdout",
          "output_type": "stream",
          "text": [
            "Turn: 1.\n",
            "Turn: 2.\n",
            "Turn: 3.\n",
            "Turn: 4.\n",
            "Turn: 5.\n",
            "Turn: 6.\n",
            "Turn: 7.\n",
            "Turn: 8.\n",
            "Turn: 9.\n",
            "Turn: 10.\n",
            "Turn: 11.\n",
            "Turn: 12.\n",
            "Turn: 13.\n",
            "Turn: 14.\n",
            "Turn: 15.\n",
            "Turn: 16.\n",
            "Turn: 17.\n",
            "The following players have solved the crime in the last turn: [3]\n",
            "Turn: 18.\n",
            "The following players have solved the crime in the last turn: [0]\n",
            "Turn: 19.\n",
            "The following players have solved the crime in the last turn: [1]\n",
            "Turn: 20.\n",
            "Turn: 21.\n",
            "The following players have solved the crime in the last turn: [2]\n",
            "The following observers have solved the crime in the last turn: [4]\n",
            "By now, all players and observers have solved the crime.\n"
          ]
        }
      ],
      "source": [
        "cluedo_game_simulator(\n",
        "    player_types=([SmartBotPlayer] * number_of_players),\n",
        "    observer_types=[SmartBotObserver],\n",
        "    game_id=1,\n",
        "    artifacting=True,\n",
        "    reveal_extra_cards_first=False,\n",
        ")"
      ]
    },
    {
      "cell_type": "markdown",
      "metadata": {
        "id": "2V4F-nCU-heq"
      },
      "source": [
        "----\n",
        "\n",
        "## Try the Cluedo game assistant\n",
        "\n",
        "Run the following code cell to run the interactive Cluedo game assistant."
      ]
    },
    {
      "cell_type": "code",
      "execution_count": null,
      "metadata": {
        "colab": {
          "base_uri": "https://localhost:8080/",
          "height": 749
        },
        "id": "SGpFR3Ll6YlK",
        "outputId": "4c4706f3-0253-430e-ed7b-aa28519b0d17"
      },
      "outputs": [
        {
          "name": "stdout",
          "output_type": "stream",
          "text": [
            " ██████╗██╗     ██╗   ██╗███████╗██████╗  ██████╗ \n",
            "██╔════╝██║     ██║   ██║██╔════╝██╔══██╗██╔═══██╗\n",
            "██║     ██║     ██║   ██║█████╗  ██║  ██║██║   ██║\n",
            "██║     ██║     ██║   ██║██╔══╝  ██║  ██║██║   ██║\n",
            "╚██████╗███████╗╚██████╔╝███████╗██████╔╝╚██████╔╝\n",
            " ╚═════╝╚══════╝ ╚═════╝ ╚══════╝╚═════╝  ╚═════╝ \n",
            "Initializing Cluedo Assistant... \n",
            "Please provide the player names in turn order, beginning with the starting player. \n",
            "Player 1 name: 0\n",
            "Player 2 name: 1\n",
            "Player 3 name (<Enter> if no player 3): 2\n",
            "Player 4 name (<Enter> if no player 4): 3\n",
            "Player 5 name (<Enter> if no player 5): \n",
            "Running Cluedo Assistant... \n",
            "Give me information about your gameplay by answering my prompts. I will tell you what the crime was as soon as I've isolated the solution. \n",
            "It's 0's turn. \n",
            "Who does 0 say killed the host? Enter character name: Mustard\n",
            "How does 0 say the crime was committed? Enter weapon name: Knife\n",
            "Where does 0 say the murder took place? Enter room name: Hall\n",
            "Who gave evidence that the suspect, weapon, or room was wrong? \n",
            " - Enter player name: 2\n",
            " - Enter player name: 1\n",
            "It's 1's turn. \n",
            "Who does 1 say killed the host? Enter character name: \n",
            "<And so on until the Cluedo game assistant has solved the case...>"
          ]
        }
      ],
      "source": [
        "cluedo_game_assistant(game_id=0, artifacting=True, reveal_extra_cards_first=False)"
      ]
    }
  ],
  "metadata": {
    "colab": {
      "provenance": [],
      "toc_visible": true
    },
    "kernelspec": {
      "display_name": "Python 3",
      "name": "python3"
    },
    "language_info": {
      "name": "python"
    }
  },
  "nbformat": 4,
  "nbformat_minor": 0
}
